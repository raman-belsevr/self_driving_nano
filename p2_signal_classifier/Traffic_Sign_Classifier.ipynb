{
 "cells": [
  {
   "cell_type": "markdown",
   "metadata": {},
   "source": [
    "# Self-Driving Car Engineer Nanodegree\n",
    "\n",
    "## Deep Learning\n",
    "\n",
    "## Project: Build a Traffic Sign Recognition Classifier\n",
    "\n",
    "In this notebook, a template is provided for you to implement your functionality in stages, which is required to successfully complete this project. If additional code is required that cannot be included in the notebook, be sure that the Python code is successfully imported and included in your submission if necessary. \n",
    "\n",
    "> **Note**: Once you have completed all of the code implementations, you need to finalize your work by exporting the iPython Notebook as an HTML document. Before exporting the notebook to html, all of the code cells need to have been run so that reviewers can see the final implementation and output. You can then export the notebook by using the menu above and navigating to  \\n\",\n",
    "    \"**File -> Download as -> HTML (.html)**. Include the finished document along with this notebook as your submission. \n",
    "\n",
    "In addition to implementing code, there is a writeup to complete. The writeup should be completed in a separate file, which can be either a markdown file or a pdf document. There is a [write up template](https://github.com/udacity/CarND-Traffic-Sign-Classifier-Project/blob/master/writeup_template.md) that can be used to guide the writing process. Completing the code template and writeup template will cover all of the [rubric points](https://review.udacity.com/#!/rubrics/481/view) for this project.\n",
    "\n",
    "The [rubric](https://review.udacity.com/#!/rubrics/481/view) contains \"Stand Out Suggestions\" for enhancing the project beyond the minimum requirements. The stand out suggestions are optional. If you decide to pursue the \"stand out suggestions\", you can include the code in this Ipython notebook and also discuss the results in the writeup file.\n",
    "\n",
    "\n",
    ">**Note:** Code and Markdown cells can be executed using the **Shift + Enter** keyboard shortcut. In addition, Markdown cells can be edited by typically double-clicking the cell to enter edit mode."
   ]
  },
  {
   "cell_type": "markdown",
   "metadata": {},
   "source": [
    "---\n",
    "## Step 0: Load The Data"
   ]
  },
  {
   "cell_type": "code",
   "execution_count": null,
   "metadata": {
    "collapsed": true
   },
   "outputs": [],
   "source": [
    "# Load pickled data\n",
    "import pickle\n",
    "\n",
    "# TODO: Fill this in based on where you saved the training and testing data\n",
    "\n",
    "data_dir = '/Users/raman/work/self_driving_nano/CarND-Traffic-Sign-Classifier-Project/data'\n",
    "\n",
    "\n",
    "training_file = data_dir + '/' + 'train.p'\n",
    "validation_file= data_dir + '/' + 'valid.p'\n",
    "testing_file = data_dir + '/' + 'test.p'\n",
    "\n",
    "with open(training_file, mode='rb') as f:\n",
    "    train = pickle.load(f)\n",
    "with open(validation_file, mode='rb') as f:\n",
    "    valid = pickle.load(f)\n",
    "with open(testing_file, mode='rb') as f:\n",
    "    test = pickle.load(f)\n",
    "    \n",
    "X_train, y_train = train['features'], train['labels']\n",
    "X_valid, y_valid = valid['features'], valid['labels']\n",
    "X_test, y_test = test['features'], test['labels']"
   ]
  },
  {
   "cell_type": "markdown",
   "metadata": {},
   "source": [
    "---\n",
    "\n",
    "## Step 1: Dataset Summary & Exploration\n",
    "\n",
    "The pickled data is a dictionary with 4 key/value pairs:\n",
    "\n",
    "- `'features'` is a 4D array containing raw pixel data of the traffic sign images, (num examples, width, height, channels).\n",
    "- `'labels'` is a 1D array containing the label/class id of the traffic sign. The file `signnames.csv` contains id -> name mappings for each id.\n",
    "- `'sizes'` is a list containing tuples, (width, height) representing the original width and height the image.\n",
    "- `'coords'` is a list containing tuples, (x1, y1, x2, y2) representing coordinates of a bounding box around the sign in the image. **THESE COORDINATES ASSUME THE ORIGINAL IMAGE. THE PICKLED DATA CONTAINS RESIZED VERSIONS (32 by 32) OF THESE IMAGES**\n",
    "\n",
    "Complete the basic data summary below. Use python, numpy and/or pandas methods to calculate the data summary rather than hard coding the results. For example, the [pandas shape method](http://pandas.pydata.org/pandas-docs/stable/generated/pandas.DataFrame.shape.html) might be useful for calculating some of the summary results. "
   ]
  },
  {
   "cell_type": "markdown",
   "metadata": {},
   "source": [
    "### Provide a Basic Summary of the Data Set Using Python, Numpy and/or Pandas"
   ]
  },
  {
   "cell_type": "code",
   "execution_count": 3,
   "metadata": {},
   "outputs": [
    {
     "name": "stdout",
     "output_type": "stream",
     "text": [
      "Number of training examples = 34799\n",
      "Number of testing examples = 12630\n",
      "Image data shape = (32, 32, 3)\n",
      "Number of classes = 43\n"
     ]
    }
   ],
   "source": [
    "### Replace each question mark with the appropriate value. \n",
    "### Use python, pandas or numpy methods rather than hard coding the results\n",
    "\n",
    "# TODO: Number of training examples\n",
    "n_train = len(train['features'])\n",
    "\n",
    "# TODO: Number of validation examples\n",
    "n_validation = len(valid['features'])\n",
    "\n",
    "# TODO: Number of testing examples.\n",
    "n_test = len(test['features'])\n",
    "\n",
    "# TODO: What's the shape of an traffic sign image?\n",
    "image_shape = train['features'][0].shape\n",
    "\n",
    "# TODO: How many unique classes/labels there are in the dataset.\n",
    "n_classes = len(set(train['labels']))\n",
    "\n",
    "print(\"Number of training examples =\", n_train)\n",
    "print(\"Number of testing examples =\", n_test)\n",
    "print(\"Image data shape =\", image_shape)\n",
    "print(\"Number of classes =\", n_classes)"
   ]
  },
  {
   "cell_type": "markdown",
   "metadata": {},
   "source": [
    "### Include an exploratory visualization of the dataset"
   ]
  },
  {
   "cell_type": "markdown",
   "metadata": {},
   "source": [
    "Visualize the German Traffic Signs Dataset using the pickled file(s). This is open ended, suggestions include: plotting traffic sign images, plotting the count of each sign, etc. \n",
    "\n",
    "The [Matplotlib](http://matplotlib.org/) [examples](http://matplotlib.org/examples/index.html) and [gallery](http://matplotlib.org/gallery.html) pages are a great resource for doing visualizations in Python.\n",
    "\n",
    "**NOTE:** It's recommended you start with something simple first. If you wish to do more, come back to it after you've completed the rest of the sections. It can be interesting to look at the distribution of classes in the training, validation and test set. Is the distribution the same? Are there more examples of some classes than others?"
   ]
  },
  {
   "cell_type": "code",
   "execution_count": 4,
   "metadata": {},
   "outputs": [
    {
     "data": {
      "image/png": "[encoded data removed]",
      "text/plain": [
       "<matplotlib.figure.Figure at 0x1162c42e8>"
      ]
     },
     "metadata": {},
     "output_type": "display_data"
    }
   ],
   "source": [
    "### Data exploration visualization code goes here.\n",
    "### Feel free to use as many code cells as needed.\n",
    "import random\n",
    "import matplotlib.pyplot as plt\n",
    "from skimage import color\n",
    "# Visualizations will be shown in the notebook.\n",
    "%matplotlib inline\n",
    "\n",
    "def random_select(image_set, label_set):\n",
    "    index = random.randint(0, len(image_set))\n",
    "    image = image_set[index]\n",
    "    label = label_set[index]\n",
    "    return image,label\n",
    "\n",
    "def display_image(image, label):\n",
    "    plt.figure(figsize = (1,1))\n",
    "    plt.imshow(image, cmap = \"gray\")\n",
    "    \n",
    "\n",
    "    \n",
    "training_data = train['features']\n",
    "training_labels = train['labels']\n",
    "image, label = random_select(training_data, training_labels)\n",
    "display_image(image, label)"
   ]
  },
  {
   "cell_type": "markdown",
   "metadata": {},
   "source": [
    "----\n",
    "\n",
    "## Step 2: Design and Test a Model Architecture\n",
    "\n",
    "Design and implement a deep learning model that learns to recognize traffic signs. Train and test your model on the [German Traffic Sign Dataset](http://benchmark.ini.rub.de/?section=gtsrb&subsection=dataset).\n",
    "\n",
    "The LeNet-5 implementation shown in the [classroom](https://classroom.udacity.com/nanodegrees/nd013/parts/fbf77062-5703-404e-b60c-95b78b2f3f9e/modules/6df7ae49-c61c-4bb2-a23e-6527e69209ec/lessons/601ae704-1035-4287-8b11-e2c2716217ad/concepts/d4aca031-508f-4e0b-b493-e7b706120f81) at the end of the CNN lesson is a solid starting point. You'll have to change the number of classes and possibly the preprocessing, but aside from that it's plug and play! \n",
    "\n",
    "With the LeNet-5 solution from the lecture, you should expect a validation set accuracy of about 0.89. To meet specifications, the validation set accuracy will need to be at least 0.93. It is possible to get an even higher accuracy, but 0.93 is the minimum for a successful project submission. \n",
    "\n",
    "There are various aspects to consider when thinking about this problem:\n",
    "\n",
    "- Neural network architecture (is the network over or underfitting?)\n",
    "- Play around preprocessing techniques (normalization, rgb to grayscale, etc)\n",
    "- Number of examples per label (some have more than others).\n",
    "- Generate fake data.\n",
    "\n",
    "Here is an example of a [published baseline model on this problem](http://yann.lecun.com/exdb/publis/pdf/sermanet-ijcnn-11.pdf). It's not required to be familiar with the approach used in the paper but, it's good practice to try to read papers like these."
   ]
  },
  {
   "cell_type": "markdown",
   "metadata": {},
   "source": [
    "### Pre-process the Data Set (normalization, grayscale, etc.)"
   ]
  },
  {
   "cell_type": "markdown",
   "metadata": {},
   "source": [
    "Minimally, the image data should be normalized so that the data has mean zero and equal variance. For image data, `(pixel - 128)/ 128` is a quick way to approximately normalize the data and can be used in this project. \n",
    "\n",
    "Other pre-processing steps are optional. You can try different techniques to see if it improves performance. \n",
    "\n",
    "Use the code cell (or multiple code cells, if necessary) to implement the first step of your project."
   ]
  },
  {
   "cell_type": "markdown",
   "metadata": {},
   "source": [
    "### Pre-processing tools"
   ]
  },
  {
   "cell_type": "code",
   "execution_count": 5,
   "metadata": {},
   "outputs": [],
   "source": [
    "from scipy import ndimage\n",
    "from sklearn.utils import shuffle\n",
    "from skimage import io\n",
    "from PIL import Image\n",
    "import numpy as np\n",
    "import math\n",
    "import cv2\n",
    "from random import random\n",
    "\n",
    "# conversion into gray scale\n",
    "def rgb2gray(image_set):\n",
    "    return [to_gray_scale(img) for img in image_set]\n",
    "\n",
    "def normalize_gray_scale_set(image_set):\n",
    "    return [normalize_gray_scale(img) for img in image_set]\n",
    "\n",
    "def equalizeHistogram(image_set):\n",
    "    return [equalizeHist(img) for img in image_set]\n",
    "\n",
    "def to_gray_scale(image):\n",
    "    w,h,c = image.shape\n",
    "    data = np.zeros((w, h, 1), dtype=np.uint8)\n",
    "    for xi in range(w):\n",
    "        for yi in range(h):\n",
    "            pixel = image[xi,yi]\n",
    "            r, g, b = pixel[0], pixel[1], pixel[2]\n",
    "            #r_n, g_n, b_n = (r-128)/128, (g - 128)/128, (b - 128)/128\n",
    "            pixel_gray = (0.2989 * r + 0.5870 * g + 0.1140 * b)\n",
    "            data[xi,yi] = [pixel_gray]\n",
    "    return data\n",
    "\n",
    "def augment_third_dim(image):\n",
    "    w,h = image.shape\n",
    "    data = np.zeros((w, h, 1), dtype=np.uint8)\n",
    "    for xi in range(w):\n",
    "        for yi in range(h):\n",
    "            pixel = image[xi,yi]\n",
    "            #r_n, g_n, b_n = (r-128)/128, (g - 128)/128, (b - 128)/128\n",
    "            data[xi,yi] = [pixel]\n",
    "    return data\n",
    "\n",
    "\n",
    "def normalize_gray_scale(grayImage):\n",
    "    originalMinValue = (min(min(grayImage)))\n",
    "    originalMaxValue = (max(max(grayImage)))\n",
    "    originalRange = originalMaxValue - originalMinValue;\n",
    "\n",
    "    % Get a double image in the range 0 to +1\n",
    "    desiredMin = 0;\n",
    "    desiredMax = 1;\n",
    "    desiredRange = desiredMax - desiredMin;\n",
    "    normalized = desiredRange * ((grayImage) - originalMinValue)/originalRange + desiredMin;\n",
    "    return normalized\n",
    "\n",
    "def augment_by_processing(image_set, label_set, process, percent):\n",
    "    num_mutations = math.ceil((percent/100) * len(image_set))\n",
    "    print(\"number of mutations {}\".format(num_mutations))\n",
    "    input_data, input_labels = shuffle(image_set, label_set)\n",
    "    added_data = []\n",
    "    added_labels = []\n",
    "    for index in range(num_mutations):\n",
    "        processed = process(input_data[index])\n",
    "        added_data.append(processed),\n",
    "        added_labels.append(input_labels[index])\n",
    "   \n",
    "    return added_data, added_labels\n",
    "\n",
    "def augment_by_rotation(image_set, label_set, percent):\n",
    "    num_mutations = math.ceil((percent/100) * len(image_set))\n",
    "    print(\"number of mutations {}\".format(num_mutations))\n",
    "    input_data, input_labels = shuffle(image_set, label_set)\n",
    "    added_data = []\n",
    "    added_labels = []\n",
    "    for index in range(num_mutations):\n",
    "        rotated_left = rotate(input_data[index], -7.5)\n",
    "        added_data.append(rotated_left),\n",
    "        added_labels.append(input_labels[index])\n",
    "        rotated_right = rotate(input_data[index], 7.5)\n",
    "        added_data.append(rotated_right),\n",
    "        added_labels.append(input_labels[index])\n",
    "    return added_data, added_labels\n",
    "\n",
    "def rotate(image, angle):\n",
    "    rotated = ndimage.rotate(image, angle, mode = 'nearest', reshape=False)\n",
    "    return rotated\n",
    "\n",
    "def equalizeHist(image):\n",
    "    \"\"\"  Histogram equalization of a grayscale image. \"\"\"\n",
    "    # get image histogram. output shape = (w, h, 1)\n",
    "    equalized = cv2.equalizeHist(image)\n",
    "    return augment_third_dim(equalized)\n",
    "\n",
    "def shift(image):\n",
    "    sequence = (3.0, 3.0, 0.0) if len(image.shape) == 3 else (3.0, 3.0)\n",
    "    return ndimage.shift(image, sequence, mode=\"nearest\")"
   ]
  },
  {
   "cell_type": "markdown",
   "metadata": {},
   "source": [
    "### Pre-processing"
   ]
  },
  {
   "cell_type": "code",
   "execution_count": 6,
   "metadata": {},
   "outputs": [
    {
     "name": "stdout",
     "output_type": "stream",
     "text": [
      "(32, 32, 1)\n"
     ]
    },
    {
     "data": {
      "image/png": "[encoded data removed]",
      "text/plain": [
       "<matplotlib.figure.Figure at 0x12d05e550>"
      ]
     },
     "metadata": {},
     "output_type": "display_data"
    },
    {
     "data": {
      "image/png": "[encoded data removed]",
      "text/plain": [
       "<matplotlib.figure.Figure at 0x12d05e588>"
      ]
     },
     "metadata": {},
     "output_type": "display_data"
    },
    {
     "data": {
      "image/png": "[encoded data removed]",
      "text/plain": [
       "<matplotlib.figure.Figure at 0x10edcbba8>"
      ]
     },
     "metadata": {},
     "output_type": "display_data"
    }
   ],
   "source": [
    "import math\n",
    "\n",
    "train_data = train['features']\n",
    "train_labels = train['labels']\n",
    "X_train, Y_train = shuffle(train_data, train_labels)\n",
    "\n",
    "image = X_train[0]\n",
    "display_image(image.squeeze(), None)\n",
    "gray_scale = to_gray_scale(image)\n",
    "display_image(gray_scale.squeeze(), None)\n",
    "equalized = equalizeHist(gray_scale)\n",
    "display_image(equalized.squeeze(), None)\n",
    "print(equalized.shape)\n",
    "\n",
    "\n",
    "#nimg = normalize_gray_scale(gray_scale)\n",
    "#display_image(nimg.squeeze(), None)"
   ]
  },
  {
   "cell_type": "code",
   "execution_count": 7,
   "metadata": {},
   "outputs": [
    {
     "name": "stdout",
     "output_type": "stream",
     "text": [
      "Step 1 (shuffle) complete\n",
      "Step 2 (gray scale) complete\n",
      "shape after rgb (32, 32, 1)\n",
      "number of mutations 34799\n",
      "Step 4 (rotation) complete\n",
      "number of mutations 34799\n",
      "Step 5 (shift/translation) complete\n",
      "total examples after augmentation 139196\n",
      "Preprocessing complete (normaliztion and conversion into gray scale) 139196\n"
     ]
    }
   ],
   "source": [
    "### Preprocess the data here. It is required to normalize the data. Other preprocessing steps could include \n",
    "### converting to grayscale, etc.\n",
    "### Feel free to use as many code cells as needed.\n",
    "\n",
    "# Step 1\n",
    "# Randomize input\n",
    "train_data = train['features']\n",
    "train_labels = train['labels']\n",
    "X_train, Y_train = shuffle(train_data, train_labels)\n",
    "print(\"Step 1 (shuffle) complete\")\n",
    "\n",
    "# Step 2\n",
    "# Convert each to gray scale\n",
    "X_train = rgb2gray(X_train)\n",
    "print(\"Step 2 (gray scale) complete\")\n",
    "\n",
    "print(\"shape after rgb {}\".format(X_train[0].shape))\n",
    "\n",
    "# Step 3 \n",
    "# Apply Gray-scale levelling to each\n",
    "#X_train = equalizeHistogram(X_train)\n",
    "#print(\"Step 3 (histogram equalization) complete \")\n",
    "\n",
    "\n",
    "# Step 4\n",
    "# Augment the collection by adding rotated images\n",
    "added_x_rotated, added_y_rotated = augment_by_rotation(X_train, Y_train, 100)\n",
    "print(\"Step 4 (rotation) complete\")\n",
    "\n",
    "# Step 5\n",
    "# Augment the collection by added translated (shifted) images\n",
    "added_x_shifted, added_y_shifted = augment_by_processing(X_train, Y_train, shift, 100)\n",
    "print(\"Step 5 (shift/translation) complete\")\n",
    "\n",
    "X_train = np.append(X_train, added_x_rotated, axis = 0)\n",
    "Y_train = np.append(Y_train, added_y_rotated, axis = 0)\n",
    "\n",
    "X_train = np.append(X_train, added_x_shifted, axis = 0)\n",
    "Y_train = np.append(Y_train, added_y_shifted, axis = 0)\n",
    "\n",
    "print(\"total examples after augmentation {}\".format(len(X_train)))\n",
    "\n",
    "#image, label = random_select(added_features, added_labels)\n",
    "#display_image(image.squeeze(), label)\n",
    "#print(X_train[0].shape)\n",
    "#print(added_features[0].shape)\n",
    "\n",
    "\n",
    "print(\"Preprocessing complete (normaliztion and conversion into gray scale) {}\".format(len(X_train)))\n"
   ]
  },
  {
   "cell_type": "markdown",
   "metadata": {},
   "source": [
    "### Validation Data and Labels"
   ]
  },
  {
   "cell_type": "code",
   "execution_count": 8,
   "metadata": {
    "collapsed": true
   },
   "outputs": [],
   "source": [
    "X_valid = rgb2gray(valid['features'])\n",
    "y_valid = valid['labels']"
   ]
  },
  {
   "cell_type": "markdown",
   "metadata": {},
   "source": [
    "### Setup Tensorflow"
   ]
  },
  {
   "cell_type": "code",
   "execution_count": 9,
   "metadata": {
    "collapsed": true
   },
   "outputs": [],
   "source": [
    "### Define your architecture here.\n",
    "### Feel free to use as many code cells as needed.\n",
    "\n",
    "# Set up tensor flow\n",
    "import tensorflow as tf\n",
    "\n",
    "EPOCHS = 20\n",
    "BATCH_SIZE = 128"
   ]
  },
  {
   "cell_type": "markdown",
   "metadata": {},
   "source": [
    "### Model Architecture"
   ]
  },
  {
   "cell_type": "code",
   "execution_count": 10,
   "metadata": {
    "collapsed": true
   },
   "outputs": [],
   "source": [
    "from tensorflow.contrib.layers import flatten\n",
    "\n",
    "def LeNet(x):\n",
    "    # Arguments used for tf.truncated_normal, randomly defines variables for the weights and biases for each layer\n",
    "    mu = 0\n",
    "    sigma = 0.1\n",
    "    stride_of_1 = [1, 1, 1, 1]\n",
    "    stride_of_2 = [1, 2, 2, 1]\n",
    "    \n",
    "    # Layer 1: Convolutional. Input = 32x32x3. Output = 28x28x6.\n",
    "    filter_1 = tf.Variable(tf.truncated_normal(shape = (5, 5, 1, 10), mean = mu, stddev = sigma))\n",
    "    bias_1 = tf.Variable(tf.zeros(10))\n",
    "    conv_1 = tf.nn.conv2d(x, filter_1, stride_of_1, padding = 'VALID') + bias_1 \n",
    "    # relu\n",
    "    conv_1 = tf.nn.relu(conv_1)\n",
    "    # pooling\n",
    "    conv_1 = tf.nn.avg_pool(conv_1, ksize = stride_of_2, strides = stride_of_2, padding = 'VALID')\n",
    "        \n",
    "    \n",
    "    # Layer 2: Convolution. Input = 14x14x6. Output = 5x5x16\n",
    "    filter_2 = tf.Variable(tf.truncated_normal(shape = (5, 5, 10, 20), mean = mu, stddev = sigma))\n",
    "    bias_2 = tf.Variable(tf.zeros(20)) \n",
    "    conv_2 = tf.nn.conv2d(conv_1, filter_2, stride_of_1, padding = 'VALID')\n",
    "    # relu\n",
    "    conv_2 = tf.nn.relu(conv_2)\n",
    "    # max pooling\n",
    "    conv_2 = tf.nn.avg_pool(conv_2, ksize = stride_of_2, strides = stride_of_2, padding = 'VALID')\n",
    "    \n",
    "    # Flatten. Input = 5x5x16. Output = 400.\n",
    "    fc_0 = flatten(conv_2)\n",
    "    \n",
    "    # Fully connected. Input = 400 Output = 120\n",
    "    weight_fc_1 = tf.Variable(tf.truncated_normal(shape = (500, 250), mean = mu, stddev = sigma))\n",
    "    bias_fc_1 = tf.Variable(tf.zeros(250))\n",
    "    fc_1 = tf.add(tf.matmul(fc_0, weight_fc_1), bias_fc_1)\n",
    "    fc_1 = tf.nn.relu(fc_1)\n",
    "    \n",
    "    # Fully connected. Input = 120 Output = 84\n",
    "    weight_fc_2 = tf.Variable(tf.truncated_normal(shape = (250, 125), mean = mu, stddev = sigma))\n",
    "    bias_fc_2 = tf.Variable(tf.zeros(125))\n",
    "    fc_2 = tf.add(tf.matmul(fc_1, weight_fc_2), bias_fc_2)\n",
    "    fc_2 = tf.nn.relu(fc_2)\n",
    "    \n",
    "    # Layer 5: Fully Connected. Input = 84. Output = 43.\n",
    "    weight_fc_3 = tf.Variable(tf.truncated_normal(shape = (125, 43), mean = mu, stddev = sigma))\n",
    "    bias_fc_3 = tf.Variable(tf.zeros(43))\n",
    "    logits = tf.add(tf.matmul(fc_2, weight_fc_3), bias_fc_3)\n",
    "    \n",
    "    return logits"
   ]
  },
  {
   "cell_type": "markdown",
   "metadata": {},
   "source": [
    "## Features and Labels\n"
   ]
  },
  {
   "cell_type": "code",
   "execution_count": 11,
   "metadata": {
    "collapsed": true
   },
   "outputs": [],
   "source": [
    "x = tf.placeholder(tf.float32, (None, 32, 32, 1))\n",
    "y = tf.placeholder(tf.int32, (None))\n",
    "one_hot_y = tf.one_hot(y, 43)"
   ]
  },
  {
   "cell_type": "markdown",
   "metadata": {},
   "source": [
    "### Train, Validate and Test the Model"
   ]
  },
  {
   "cell_type": "markdown",
   "metadata": {},
   "source": [
    "A validation set can be used to assess how well the model is performing. A low accuracy on the training and validation\n",
    "sets imply underfitting. A high accuracy on the training set but low accuracy on the validation set implies overfitting."
   ]
  },
  {
   "cell_type": "code",
   "execution_count": 12,
   "metadata": {},
   "outputs": [
    {
     "name": "stdout",
     "output_type": "stream",
     "text": [
      "20\n",
      "Training... with 139196 examples\n",
      "\n",
      "Epoch [1] completed\n",
      "Validation Accuracy = 0.864\n",
      "Epoch [2] completed\n",
      "Validation Accuracy = 0.889\n",
      "Epoch [3] completed\n",
      "Validation Accuracy = 0.923\n",
      "Epoch [4] completed\n",
      "Validation Accuracy = 0.905\n",
      "Epoch [5] completed\n",
      "Validation Accuracy = 0.927\n",
      "Epoch [6] completed\n",
      "Validation Accuracy = 0.933\n",
      "Epoch [7] completed\n",
      "Validation Accuracy = 0.921\n",
      "Epoch [8] completed\n",
      "Validation Accuracy = 0.942\n",
      "Epoch [9] completed\n",
      "Validation Accuracy = 0.949\n",
      "Epoch [10] completed\n",
      "Validation Accuracy = 0.953\n",
      "Epoch [11] completed\n",
      "Validation Accuracy = 0.954\n",
      "Epoch [12] completed\n",
      "Validation Accuracy = 0.953\n",
      "Epoch [13] completed\n",
      "Validation Accuracy = 0.929\n",
      "Epoch [14] completed\n",
      "Validation Accuracy = 0.935\n",
      "Epoch [15] completed\n",
      "Validation Accuracy = 0.956\n",
      "Epoch [16] completed\n",
      "Validation Accuracy = 0.960\n",
      "Epoch [17] completed\n",
      "Validation Accuracy = 0.960\n",
      "Epoch [18] completed\n",
      "Validation Accuracy = 0.949\n",
      "Epoch [19] completed\n",
      "Validation Accuracy = 0.952\n",
      "Epoch [20] completed\n",
      "Validation Accuracy = 0.946\n",
      "Model saved\n"
     ]
    }
   ],
   "source": [
    "### Train your model here.\n",
    "### Calculate and report the accuracy on the training and validation set.\n",
    "### Once a final model architecture is selected, \n",
    "### the accuracy on the test set should be calculated and reported as well.\n",
    "### Feel free to use as many code cells as needed.\n",
    "\n",
    "print(EPOCHS)\n",
    "learning_rate = 0.001\n",
    "optimizer = tf.train.AdamOptimizer(learning_rate = learning_rate)\n",
    "\n",
    "logits = LeNet(x)\n",
    "cross_entropy = tf.nn.softmax_cross_entropy_with_logits(labels=one_hot_y, logits=logits)\n",
    "loss_operation = tf.reduce_mean(cross_entropy)\n",
    "training_operation = optimizer.minimize(loss_operation)\n",
    "\n",
    "# Evaluation\n",
    "correct_prediction = tf.equal(tf.argmax(logits, 1), tf.argmax(one_hot_y, 1))\n",
    "accuracy_operation = tf.reduce_mean(tf.cast(correct_prediction, tf.float32))\n",
    "model_saver = tf.train.Saver()\n",
    "\n",
    "\n",
    "def evaluate(X_data, y_data):\n",
    "    n_input = len(X_data)\n",
    "    session = tf.get_default_session()\n",
    "    total_accuracy = 0\n",
    "    for offset in range(0, n_input, BATCH_SIZE):\n",
    "        batch_end = offset + BATCH_SIZE\n",
    "        x_batch, y_batch = X_data[offset: batch_end], y_data[offset: batch_end]\n",
    "        accuracy = session.run(accuracy_operation, feed_dict = {x: x_batch, y: y_batch})\n",
    "        total_accuracy += (accuracy * len(x_batch))\n",
    "    return total_accuracy/n_input\n",
    "\n",
    "\n",
    "# Training\n",
    "\n",
    "with tf.Session() as sess:\n",
    "    sess.run(tf.global_variables_initializer())\n",
    "    num_examples = len(X_train)\n",
    "    \n",
    "    print(\"Training... with {} examples\".format(num_examples))\n",
    "    print()\n",
    "    for i in range(EPOCHS):\n",
    "        X_train, Y_train = shuffle(X_train, Y_train)\n",
    "        for offset in range(0, num_examples, BATCH_SIZE):\n",
    "            batch_end = offset + BATCH_SIZE\n",
    "            x_train_batch, y_train_batch = X_train[offset: batch_end], Y_train[offset: batch_end]\n",
    "            sess.run(training_operation, feed_dict = {x: x_train_batch, y: y_train_batch})\n",
    "        \n",
    "        print(\"Epoch [{}] completed\".format((i+1)))\n",
    "        validation_accuracy = evaluate(X_valid, y_valid)\n",
    "        print(\"Validation Accuracy = {:.3f}\".format(validation_accuracy))\n",
    "\n",
    "    model_saver.save(sess, './lenet')\n",
    "    print(\"Model saved\")"
   ]
  },
  {
   "cell_type": "markdown",
   "metadata": {},
   "source": [
    "---\n",
    "\n",
    "## Step 3: Test a Model on New Images\n",
    "\n",
    "To give yourself more insight into how your model is working, download at least five pictures of German traffic signs from the web and use your model to predict the traffic sign type.\n",
    "\n",
    "You may find `signnames.csv` useful as it contains mappings from the class id (integer) to the actual sign name."
   ]
  },
  {
   "cell_type": "markdown",
   "metadata": {},
   "source": [
    "### Load and Output the Images"
   ]
  },
  {
   "cell_type": "code",
   "execution_count": null,
   "metadata": {
    "collapsed": true
   },
   "outputs": [],
   "source": [
    "### Load the images and plot them here.\n",
    "### Feel free to use as many code cells as needed."
   ]
  },
  {
   "cell_type": "markdown",
   "metadata": {},
   "source": [
    "### Predict the Sign Type for Each Image"
   ]
  },
  {
   "cell_type": "code",
   "execution_count": null,
   "metadata": {
    "collapsed": true
   },
   "outputs": [],
   "source": [
    "### Run the predictions here and use the model to output the prediction for each image.\n",
    "### Make sure to pre-process the images with the same pre-processing pipeline used earlier.\n",
    "### Feel free to use as many code cells as needed."
   ]
  },
  {
   "cell_type": "markdown",
   "metadata": {},
   "source": [
    "### Analyze Performance"
   ]
  },
  {
   "cell_type": "code",
   "execution_count": null,
   "metadata": {
    "collapsed": true
   },
   "outputs": [],
   "source": [
    "### Calculate the accuracy for these 5 new images. \n",
    "### For example, if the model predicted 1 out of 5 signs correctly, it's 20% accurate on these new images."
   ]
  },
  {
   "cell_type": "markdown",
   "metadata": {},
   "source": [
    "### Output Top 5 Softmax Probabilities For Each Image Found on the Web"
   ]
  },
  {
   "cell_type": "markdown",
   "metadata": {},
   "source": [
    "For each of the new images, print out the model's softmax probabilities to show the **certainty** of the model's predictions (limit the output to the top 5 probabilities for each image). [`tf.nn.top_k`](https://www.tensorflow.org/versions/r0.12/api_docs/python/nn.html#top_k) could prove helpful here. \n",
    "\n",
    "The example below demonstrates how tf.nn.top_k can be used to find the top k predictions for each image.\n",
    "\n",
    "`tf.nn.top_k` will return the values and indices (class ids) of the top k predictions. So if k=3, for each sign, it'll return the 3 largest probabilities (out of a possible 43) and the correspoding class ids.\n",
    "\n",
    "Take this numpy array as an example. The values in the array represent predictions. The array contains softmax probabilities for five candidate images with six possible classes. `tk.nn.top_k` is used to choose the three classes with the highest probability:\n",
    "\n",
    "```\n",
    "# (5, 6) array\n",
    "a = np.array([[ 0.24879643,  0.07032244,  0.12641572,  0.34763842,  0.07893497,\n",
    "         0.12789202],\n",
    "       [ 0.28086119,  0.27569815,  0.08594638,  0.0178669 ,  0.18063401,\n",
    "         0.15899337],\n",
    "       [ 0.26076848,  0.23664738,  0.08020603,  0.07001922,  0.1134371 ,\n",
    "         0.23892179],\n",
    "       [ 0.11943333,  0.29198961,  0.02605103,  0.26234032,  0.1351348 ,\n",
    "         0.16505091],\n",
    "       [ 0.09561176,  0.34396535,  0.0643941 ,  0.16240774,  0.24206137,\n",
    "         0.09155967]])\n",
    "```\n",
    "\n",
    "Running it through `sess.run(tf.nn.top_k(tf.constant(a), k=3))` produces:\n",
    "\n",
    "```\n",
    "TopKV2(values=array([[ 0.34763842,  0.24879643,  0.12789202],\n",
    "       [ 0.28086119,  0.27569815,  0.18063401],\n",
    "       [ 0.26076848,  0.23892179,  0.23664738],\n",
    "       [ 0.29198961,  0.26234032,  0.16505091],\n",
    "       [ 0.34396535,  0.24206137,  0.16240774]]), indices=array([[3, 0, 5],\n",
    "       [0, 1, 4],\n",
    "       [0, 5, 1],\n",
    "       [1, 3, 5],\n",
    "       [1, 4, 3]], dtype=int32))\n",
    "```\n",
    "\n",
    "Looking just at the first row we get `[ 0.34763842,  0.24879643,  0.12789202]`, you can confirm these are the 3 largest probabilities in `a`. You'll also notice `[3, 0, 5]` are the corresponding indices."
   ]
  },
  {
   "cell_type": "code",
   "execution_count": null,
   "metadata": {
    "collapsed": true
   },
   "outputs": [],
   "source": [
    "### Print out the top five softmax probabilities for the predictions on the German traffic sign images found on the web. \n",
    "### Feel free to use as many code cells as needed."
   ]
  },
  {
   "cell_type": "markdown",
   "metadata": {},
   "source": [
    "### Project Writeup\n",
    "\n",
    "Once you have completed the code implementation, document your results in a project writeup using this [template](https://github.com/udacity/CarND-Traffic-Sign-Classifier-Project/blob/master/writeup_template.md) as a guide. The writeup can be in a markdown or pdf file. "
   ]
  },
  {
   "cell_type": "markdown",
   "metadata": {},
   "source": [
    "> **Note**: Once you have completed all of the code implementations and successfully answered each question above, you may finalize your work by exporting the iPython Notebook as an HTML document. You can do this by using the menu above and navigating to  \\n\",\n",
    "    \"**File -> Download as -> HTML (.html)**. Include the finished document along with this notebook as your submission."
   ]
  },
  {
   "cell_type": "markdown",
   "metadata": {},
   "source": [
    "---\n",
    "\n",
    "## Step 4 (Optional): Visualize the Neural Network's State with Test Images\n",
    "\n",
    " This Section is not required to complete but acts as an additional excersise for understaning the output of a neural network's weights. While neural networks can be a great learning device they are often referred to as a black box. We can understand what the weights of a neural network look like better by plotting their feature maps. After successfully training your neural network you can see what it's feature maps look like by plotting the output of the network's weight layers in response to a test stimuli image. From these plotted feature maps, it's possible to see what characteristics of an image the network finds interesting. For a sign, maybe the inner network feature maps react with high activation to the sign's boundary outline or to the contrast in the sign's painted symbol.\n",
    "\n",
    " Provided for you below is the function code that allows you to get the visualization output of any tensorflow weight layer you want. The inputs to the function should be a stimuli image, one used during training or a new one you provided, and then the tensorflow variable name that represents the layer's state during the training process, for instance if you wanted to see what the [LeNet lab's](https://classroom.udacity.com/nanodegrees/nd013/parts/fbf77062-5703-404e-b60c-95b78b2f3f9e/modules/6df7ae49-c61c-4bb2-a23e-6527e69209ec/lessons/601ae704-1035-4287-8b11-e2c2716217ad/concepts/d4aca031-508f-4e0b-b493-e7b706120f81) feature maps looked like for it's second convolutional layer you could enter conv2 as the tf_activation variable.\n",
    "\n",
    "For an example of what feature map outputs look like, check out NVIDIA's results in their paper [End-to-End Deep Learning for Self-Driving Cars](https://devblogs.nvidia.com/parallelforall/deep-learning-self-driving-cars/) in the section Visualization of internal CNN State. NVIDIA was able to show that their network's inner weights had high activations to road boundary lines by comparing feature maps from an image with a clear path to one without. Try experimenting with a similar test to show that your trained network's weights are looking for interesting features, whether it's looking at differences in feature maps from images with or without a sign, or even what feature maps look like in a trained network vs a completely untrained one on the same sign image.\n",
    "\n",
    "<figure>\n",
    " <img src=\"visualize_cnn.png\" width=\"380\" alt=\"Combined Image\" />\n",
    " <figcaption>\n",
    " <p></p> \n",
    " <p style=\"text-align: center;\"> Your output should look something like this (above)</p> \n",
    " </figcaption>\n",
    "</figure>\n",
    " <p></p> \n"
   ]
  },
  {
   "cell_type": "code",
   "execution_count": null,
   "metadata": {
    "collapsed": true
   },
   "outputs": [],
   "source": [
    "### Visualize your network's feature maps here.\n",
    "### Feel free to use as many code cells as needed.\n",
    "\n",
    "# image_input: the test image being fed into the network to produce the feature maps\n",
    "# tf_activation: should be a tf variable name used during your training procedure that represents the calculated state of a specific weight layer\n",
    "# activation_min/max: can be used to view the activation contrast in more detail, by default matplot sets min and max to the actual min and max values of the output\n",
    "# plt_num: used to plot out multiple different weight feature map sets on the same block, just extend the plt number for each new feature map entry\n",
    "\n",
    "def outputFeatureMap(image_input, tf_activation, activation_min=-1, activation_max=-1 ,plt_num=1):\n",
    "    # Here make sure to preprocess your image_input in a way your network expects\n",
    "    # with size, normalization, ect if needed\n",
    "    # image_input =\n",
    "    # Note: x should be the same name as your network's tensorflow data placeholder variable\n",
    "    # If you get an error tf_activation is not defined it may be having trouble accessing the variable from inside a function\n",
    "    activation = tf_activation.eval(session=sess,feed_dict={x : image_input})\n",
    "    featuremaps = activation.shape[3]\n",
    "    plt.figure(plt_num, figsize=(15,15))\n",
    "    for featuremap in range(featuremaps):\n",
    "        plt.subplot(6,8, featuremap+1) # sets the number of feature maps to show on each row and column\n",
    "        plt.title('FeatureMap ' + str(featuremap)) # displays the feature map number\n",
    "        if activation_min != -1 & activation_max != -1:\n",
    "            plt.imshow(activation[0,:,:, featuremap], interpolation=\"nearest\", vmin =activation_min, vmax=activation_max, cmap=\"gray\")\n",
    "        elif activation_max != -1:\n",
    "            plt.imshow(activation[0,:,:, featuremap], interpolation=\"nearest\", vmax=activation_max, cmap=\"gray\")\n",
    "        elif activation_min !=-1:\n",
    "            plt.imshow(activation[0,:,:, featuremap], interpolation=\"nearest\", vmin=activation_min, cmap=\"gray\")\n",
    "        else:\n",
    "            plt.imshow(activation[0,:,:, featuremap], interpolation=\"nearest\", cmap=\"gray\")"
   ]
  }
 ],
 "metadata": {
  "anaconda-cloud": {},
  "kernelspec": {
   "display_name": "Python 3",
   "language": "python",
   "name": "python3"
  },
  "language_info": {
   "codemirror_mode": {
    "name": "ipython",
    "version": 3
   },
   "file_extension": ".py",
   "mimetype": "text/x-python",
   "name": "python",
   "nbconvert_exporter": "python",
   "pygments_lexer": "ipython3",
   "version": "3.5.2"
  },
  "widgets": {
   "state": {},
   "version": "1.1.2"
  }
 },
 "nbformat": 4,
 "nbformat_minor": 1
}
